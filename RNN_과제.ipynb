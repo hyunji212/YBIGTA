{
 "cells": [
  {
   "cell_type": "markdown",
   "metadata": {
    "id": "kSPrjjZhQyAU"
   },
   "source": [
    "YBIGTA 2021-2 교육세션\n",
    "\n",
    "# RNN 과제 : 뉴스 토픽 7중분류하기\n",
    "\n",
    "**강의자 : 한지영**\n",
    "\n",
    "<br>\n",
    "\n",
    "주요 과제는 토큰화, 정수인코딩, 패딩, 모델링(Vanila RNN or LSTM, 모델링 딴걸로 하시려면 하셔도 됩니다!)입니다!\n",
    "\n",
    "주석처리해 놓은 곳(Q1~Q7)을 채워서 완성해주시면 됩니다.\n",
    "\n",
    "오늘 실습한 코드에 거의 답이 있고, 모델링 부분은 오늘 실습을 응용하면 됩니다! 참고해서 작성해주세요~ 화이링!\n"
   ]
  },
  {
   "cell_type": "code",
   "execution_count": 1,
   "metadata": {
    "id": "TMtut_lwSf-_"
   },
   "outputs": [],
   "source": [
    "import pandas as pd\n",
    "import numpy as np\n",
    "import re\n",
    "\n",
    "import seaborn as sns\n",
    "import matplotlib.pyplot as plt\n",
    "\n",
    "from sklearn.metrics import accuracy_score, log_loss\n",
    "from sklearn.model_selection import StratifiedKFold\n",
    "\n",
    "import tensorflow as tf\n",
    "from tensorflow.keras import Sequential\n",
    "from tensorflow.keras.layers import Dense, Embedding, LSTM, Dropout, Bidirectional\n",
    "from tensorflow.keras.preprocessing.sequence import pad_sequences\n",
    "from tensorflow.keras.preprocessing.text import Tokenizer\n",
    "from tensorflow.keras.callbacks import EarlyStopping, ReduceLROnPlateau\n",
    "from tensorflow.keras.utils import plot_model, to_categorical\n",
    "from tensorflow.keras.optimizers import Adam\n",
    "\n",
    "from keras.utils import np_utils\n",
    "\n",
    "import warnings \n",
    "warnings.filterwarnings(action='ignore')"
   ]
  },
  {
   "cell_type": "code",
   "execution_count": 2,
   "metadata": {
    "id": "tfFlvsLEQxqt"
   },
   "outputs": [],
   "source": [
    "train = pd.read_csv(\"Copy of train_data.csv\")\n",
    "test = pd.read_csv(\"Copy of test_data.csv\")"
   ]
  },
  {
   "cell_type": "code",
   "execution_count": 3,
   "metadata": {
    "colab": {
     "base_uri": "https://localhost:8080/",
     "height": 419
    },
    "id": "bVpiWU-MSIF3",
    "outputId": "9dbd9e05-085e-4a00-9209-1120bd456b7f"
   },
   "outputs": [
    {
     "data": {
      "text/html": [
       "<div>\n",
       "<style scoped>\n",
       "    .dataframe tbody tr th:only-of-type {\n",
       "        vertical-align: middle;\n",
       "    }\n",
       "\n",
       "    .dataframe tbody tr th {\n",
       "        vertical-align: top;\n",
       "    }\n",
       "\n",
       "    .dataframe thead th {\n",
       "        text-align: right;\n",
       "    }\n",
       "</style>\n",
       "<table border=\"1\" class=\"dataframe\">\n",
       "  <thead>\n",
       "    <tr style=\"text-align: right;\">\n",
       "      <th></th>\n",
       "      <th>index</th>\n",
       "      <th>title</th>\n",
       "      <th>topic_idx</th>\n",
       "    </tr>\n",
       "  </thead>\n",
       "  <tbody>\n",
       "    <tr>\n",
       "      <th>0</th>\n",
       "      <td>0</td>\n",
       "      <td>인천→핀란드 항공기 결항…휴가철 여행객 분통</td>\n",
       "      <td>4</td>\n",
       "    </tr>\n",
       "    <tr>\n",
       "      <th>1</th>\n",
       "      <td>1</td>\n",
       "      <td>실리콘밸리 넘어서겠다…구글 15조원 들여 美전역 거점화</td>\n",
       "      <td>4</td>\n",
       "    </tr>\n",
       "    <tr>\n",
       "      <th>2</th>\n",
       "      <td>2</td>\n",
       "      <td>이란 외무 긴장완화 해결책은 미국이 경제전쟁 멈추는 것</td>\n",
       "      <td>4</td>\n",
       "    </tr>\n",
       "    <tr>\n",
       "      <th>3</th>\n",
       "      <td>3</td>\n",
       "      <td>NYT 클린턴 측근韓기업 특수관계 조명…공과 사 맞물려종합</td>\n",
       "      <td>4</td>\n",
       "    </tr>\n",
       "    <tr>\n",
       "      <th>4</th>\n",
       "      <td>4</td>\n",
       "      <td>시진핑 트럼프에 중미 무역협상 조속 타결 희망</td>\n",
       "      <td>4</td>\n",
       "    </tr>\n",
       "    <tr>\n",
       "      <th>...</th>\n",
       "      <td>...</td>\n",
       "      <td>...</td>\n",
       "      <td>...</td>\n",
       "    </tr>\n",
       "    <tr>\n",
       "      <th>45649</th>\n",
       "      <td>45649</td>\n",
       "      <td>KB금융 미국 IB 스티펠과 제휴…선진국 시장 공략</td>\n",
       "      <td>1</td>\n",
       "    </tr>\n",
       "    <tr>\n",
       "      <th>45650</th>\n",
       "      <td>45650</td>\n",
       "      <td>1보 서울시교육청 신종코로나 확산에 개학 연기·휴업 검토</td>\n",
       "      <td>2</td>\n",
       "    </tr>\n",
       "    <tr>\n",
       "      <th>45651</th>\n",
       "      <td>45651</td>\n",
       "      <td>게시판 키움증권 2020 키움 영웅전 실전투자대회</td>\n",
       "      <td>1</td>\n",
       "    </tr>\n",
       "    <tr>\n",
       "      <th>45652</th>\n",
       "      <td>45652</td>\n",
       "      <td>답변하는 배기동 국립중앙박물관장</td>\n",
       "      <td>2</td>\n",
       "    </tr>\n",
       "    <tr>\n",
       "      <th>45653</th>\n",
       "      <td>45653</td>\n",
       "      <td>2020 한국인터넷기자상 시상식 내달 1일 개최…특별상 김성후</td>\n",
       "      <td>2</td>\n",
       "    </tr>\n",
       "  </tbody>\n",
       "</table>\n",
       "<p>45654 rows × 3 columns</p>\n",
       "</div>"
      ],
      "text/plain": [
       "       index                               title  topic_idx\n",
       "0          0            인천→핀란드 항공기 결항…휴가철 여행객 분통          4\n",
       "1          1      실리콘밸리 넘어서겠다…구글 15조원 들여 美전역 거점화          4\n",
       "2          2      이란 외무 긴장완화 해결책은 미국이 경제전쟁 멈추는 것          4\n",
       "3          3    NYT 클린턴 측근韓기업 특수관계 조명…공과 사 맞물려종합          4\n",
       "4          4           시진핑 트럼프에 중미 무역협상 조속 타결 희망          4\n",
       "...      ...                                 ...        ...\n",
       "45649  45649        KB금융 미국 IB 스티펠과 제휴…선진국 시장 공략          1\n",
       "45650  45650     1보 서울시교육청 신종코로나 확산에 개학 연기·휴업 검토          2\n",
       "45651  45651         게시판 키움증권 2020 키움 영웅전 실전투자대회          1\n",
       "45652  45652                   답변하는 배기동 국립중앙박물관장          2\n",
       "45653  45653  2020 한국인터넷기자상 시상식 내달 1일 개최…특별상 김성후          2\n",
       "\n",
       "[45654 rows x 3 columns]"
      ]
     },
     "execution_count": 3,
     "metadata": {},
     "output_type": "execute_result"
    }
   ],
   "source": [
    "train"
   ]
  },
  {
   "cell_type": "markdown",
   "metadata": {
    "id": "1jQNxaNJSvGh"
   },
   "source": [
    "### eda\n",
    "EDA는 확인만 하시고 넘어가시면 됩니다~"
   ]
  },
  {
   "cell_type": "code",
   "execution_count": 4,
   "metadata": {
    "colab": {
     "base_uri": "https://localhost:8080/",
     "height": 310
    },
    "id": "1WU0sWDqSIIP",
    "outputId": "1aa38e22-a4ab-4eec-fcf5-73abf1e430f2"
   },
   "outputs": [
    {
     "data": {
      "text/plain": [
       "<AxesSubplot:title={'center':'Samples per each class (Training set)'}, xlabel='topic_idx'>"
      ]
     },
     "execution_count": 4,
     "metadata": {},
     "output_type": "execute_result"
    },
    {
     "data": {
      "image/png": "[encoded data removed]",
      "text/plain": [
       "<Figure size 432x288 with 1 Axes>"
      ]
     },
     "metadata": {
      "needs_background": "light"
     },
     "output_type": "display_data"
    }
   ],
   "source": [
    "# 작가별 분포도 확인 \n",
    "train.groupby(train.topic_idx).size().reset_index(name=\"counts\").plot.bar(x='topic_idx',title=\"Samples per each class (Training set)\")"
   ]
  },
  {
   "cell_type": "code",
   "execution_count": 5,
   "metadata": {
    "colab": {
     "base_uri": "https://localhost:8080/",
     "height": 298
    },
    "id": "jBLm89_BSIKA",
    "outputId": "7e700968-c636-4fd5-9fbd-30672576332a"
   },
   "outputs": [
    {
     "data": {
      "image/png": "[encoded data removed]",
      "text/plain": [
       "<Figure size 432x288 with 1 Axes>"
      ]
     },
     "metadata": {
      "needs_background": "light"
     },
     "output_type": "display_data"
    },
    {
     "name": "stdout",
     "output_type": "stream",
     "text": [
      " 가장 긴 문장은 13 개의 단어를, 가장 짧은 문장은 1 개의 단어를 가지고 있습니다.\n"
     ]
    }
   ],
   "source": [
    "# 문장 길이 분포도 확인\n",
    "train['doc_len'] = train.title.apply(lambda words: len(words.split()))\n",
    "\n",
    "def plot_doc_lengths(dataframe):\n",
    "    mean_seq_len = np.round(dataframe.doc_len.mean()).astype(int)\n",
    "    sns.distplot(tuple(dataframe.doc_len), hist=True, kde=True, label='Document lengths')\n",
    "    plt.axvline(x=mean_seq_len, color='k', linestyle='--', label=f'Sequence length mean:{mean_seq_len}')\n",
    "    plt.title('Document lengths')\n",
    "    plt.legend()\n",
    "    plt.show()\n",
    "    print(f\" 가장 긴 문장은 {train['doc_len'].max()} 개의 단어를, 가장 짧은 문장은 {train['doc_len'].min()} 개의 단어를 가지고 있습니다.\")\n",
    "\n",
    "plot_doc_lengths(train)"
   ]
  },
  {
   "cell_type": "markdown",
   "metadata": {
    "id": "Scp0ZjeJTrBj"
   },
   "source": [
    "### 텍스트 기본 전처리\n",
    "코드 실행만 해주시고 넘어가시면 됩니다~"
   ]
  },
  {
   "cell_type": "code",
   "execution_count": 6,
   "metadata": {
    "id": "T9aBv-RCQuJu"
   },
   "outputs": [],
   "source": [
    "train.drop_duplicates(subset=['title'], inplace=True) # 중복값 있다면 제거"
   ]
  },
  {
   "cell_type": "code",
   "execution_count": 7,
   "metadata": {
    "colab": {
     "base_uri": "https://localhost:8080/"
    },
    "id": "lM3Eug62QuME",
    "outputId": "3e98df64-cfdf-493d-dd8d-c3305b93faa6"
   },
   "outputs": [
    {
     "name": "stdout",
     "output_type": "stream",
     "text": [
      "False\n"
     ]
    }
   ],
   "source": [
    "train = train.dropna(how = 'any') # Null 값이 존재하는 행 제거\n",
    "print(train.isnull().values.any()) # Null 값이 존재하는지 확인"
   ]
  },
  {
   "cell_type": "code",
   "execution_count": 8,
   "metadata": {},
   "outputs": [
    {
     "data": {
      "text/plain": [
       "(45654, 4)"
      ]
     },
     "execution_count": 8,
     "metadata": {},
     "output_type": "execute_result"
    }
   ],
   "source": [
    "train.shape"
   ]
  },
  {
   "cell_type": "code",
   "execution_count": 9,
   "metadata": {
    "colab": {
     "base_uri": "https://localhost:8080/",
     "height": 204
    },
    "id": "WICiog56UC_j",
    "outputId": "01a91f33-2b83-4235-d9cf-aea615bc567f"
   },
   "outputs": [
    {
     "data": {
      "text/html": [
       "<div>\n",
       "<style scoped>\n",
       "    .dataframe tbody tr th:only-of-type {\n",
       "        vertical-align: middle;\n",
       "    }\n",
       "\n",
       "    .dataframe tbody tr th {\n",
       "        vertical-align: top;\n",
       "    }\n",
       "\n",
       "    .dataframe thead th {\n",
       "        text-align: right;\n",
       "    }\n",
       "</style>\n",
       "<table border=\"1\" class=\"dataframe\">\n",
       "  <thead>\n",
       "    <tr style=\"text-align: right;\">\n",
       "      <th></th>\n",
       "      <th>index</th>\n",
       "      <th>title</th>\n",
       "      <th>topic_idx</th>\n",
       "      <th>doc_len</th>\n",
       "    </tr>\n",
       "  </thead>\n",
       "  <tbody>\n",
       "    <tr>\n",
       "      <th>0</th>\n",
       "      <td>0</td>\n",
       "      <td>인천핀란드 항공기 결항휴가철 여행객 분통</td>\n",
       "      <td>4</td>\n",
       "      <td>5</td>\n",
       "    </tr>\n",
       "    <tr>\n",
       "      <th>1</th>\n",
       "      <td>1</td>\n",
       "      <td>실리콘밸리 넘어서겠다구글 조원 들여 전역 거점화</td>\n",
       "      <td>4</td>\n",
       "      <td>6</td>\n",
       "    </tr>\n",
       "    <tr>\n",
       "      <th>2</th>\n",
       "      <td>2</td>\n",
       "      <td>이란 외무 긴장완화 해결책은 미국이 경제전쟁 멈추는 것</td>\n",
       "      <td>4</td>\n",
       "      <td>8</td>\n",
       "    </tr>\n",
       "    <tr>\n",
       "      <th>3</th>\n",
       "      <td>3</td>\n",
       "      <td>클린턴 측근기업 특수관계 조명공과 사 맞물려종합</td>\n",
       "      <td>4</td>\n",
       "      <td>7</td>\n",
       "    </tr>\n",
       "    <tr>\n",
       "      <th>4</th>\n",
       "      <td>4</td>\n",
       "      <td>시진핑 트럼프에 중미 무역협상 조속 타결 희망</td>\n",
       "      <td>4</td>\n",
       "      <td>7</td>\n",
       "    </tr>\n",
       "  </tbody>\n",
       "</table>\n",
       "</div>"
      ],
      "text/plain": [
       "   index                           title  topic_idx  doc_len\n",
       "0      0          인천핀란드 항공기 결항휴가철 여행객 분통          4        5\n",
       "1      1      실리콘밸리 넘어서겠다구글 조원 들여 전역 거점화          4        6\n",
       "2      2  이란 외무 긴장완화 해결책은 미국이 경제전쟁 멈추는 것          4        8\n",
       "3      3      클린턴 측근기업 특수관계 조명공과 사 맞물려종합          4        7\n",
       "4      4       시진핑 트럼프에 중미 무역협상 조속 타결 희망          4        7"
      ]
     },
     "execution_count": 9,
     "metadata": {},
     "output_type": "execute_result"
    }
   ],
   "source": [
    "train['title'] = train['title'].str.replace(\"[^ㄱ-ㅎㅏ-ㅣ가-힣 ]\",\"\")\n",
    "# 한글과 공백을 제외하고 모두 제거\n",
    "train[:5]"
   ]
  },
  {
   "cell_type": "code",
   "execution_count": 10,
   "metadata": {
    "id": "3kOWEV6yUDB2"
   },
   "outputs": [],
   "source": [
    "# 한글만 남긴 이후, 빈 값이 된 행을 제거해줍시다.\n",
    "train['title'] = train['title'].str.replace('^ +', \"\") # white space 데이터를 empty value로 변경\n",
    "train['title'].replace('', np.nan, inplace=True)\n",
    "train = train.dropna(how = 'any')"
   ]
  },
  {
   "cell_type": "code",
   "execution_count": 11,
   "metadata": {
    "colab": {
     "base_uri": "https://localhost:8080/"
    },
    "id": "qfm6opt2UDD4",
    "outputId": "b69f7a3d-c5e1-4868-d1ca-2e97453eb7ac"
   },
   "outputs": [
    {
     "name": "stdout",
     "output_type": "stream",
     "text": [
      "전처리 후 테스트용 샘플의 개수 : 9131\n"
     ]
    }
   ],
   "source": [
    "# test data에 대해서도 같은 과정을 수행해줍니다.\n",
    "test.drop_duplicates(subset = ['title'], inplace=True)# title 열에서 중복인 내용이 있다면 중복 제거\n",
    "test = test.dropna(how = 'any')\n",
    "test['title'] = test['title'].str.replace(\"[^ㄱ-ㅎㅏ-ㅣ가-힣 ]\",\"\") # 정규 표현식 수행\n",
    "test['title'] = test['title'].str.replace('^ +', \"\") # 공백은 empty 값으로 변경\n",
    "test['title'].replace('', np.nan, inplace=True) # 공백은 Null 값으로 변경\n",
    "test = test.dropna(how='any') # Null 값 제거\n",
    "print('전처리 후 테스트용 샘플의 개수 :',len(test))"
   ]
  },
  {
   "cell_type": "markdown",
   "metadata": {
    "id": "3o1PSr34Uo23"
   },
   "source": [
    "### 본 과제 시작! Q1~Q7을 채워주세요!"
   ]
  },
  {
   "cell_type": "code",
   "execution_count": 12,
   "metadata": {
    "colab": {
     "base_uri": "https://localhost:8080/"
    },
    "id": "1mg1GsusWWFi",
    "outputId": "838080ab-b402-4989-c0ae-5156733058f0"
   },
   "outputs": [
    {
     "name": "stdout",
     "output_type": "stream",
     "text": [
      "Requirement already satisfied: konlpy in c:\\users\\jeong hyunji\\anaconda3\\lib\\site-packages (0.5.2)\n",
      "Requirement already satisfied: numpy>=1.6 in c:\\users\\jeong hyunji\\anaconda3\\lib\\site-packages (from konlpy) (1.19.5)\n",
      "Requirement already satisfied: lxml>=4.1.0 in c:\\users\\jeong hyunji\\anaconda3\\lib\\site-packages (from konlpy) (4.6.3)\n",
      "Requirement already satisfied: beautifulsoup4==4.6.0 in c:\\users\\jeong hyunji\\anaconda3\\lib\\site-packages (from konlpy) (4.6.0)\n",
      "Requirement already satisfied: tweepy>=3.7.0 in c:\\users\\jeong hyunji\\anaconda3\\lib\\site-packages (from konlpy) (3.10.0)\n",
      "Requirement already satisfied: colorama in c:\\users\\jeong hyunji\\anaconda3\\lib\\site-packages (from konlpy) (0.4.4)\n",
      "Requirement already satisfied: JPype1>=0.7.0 in c:\\users\\jeong hyunji\\anaconda3\\lib\\site-packages (from konlpy) (1.3.0)\n",
      "Requirement already satisfied: six>=1.10.0 in c:\\users\\jeong hyunji\\anaconda3\\lib\\site-packages (from tweepy>=3.7.0->konlpy) (1.15.0)\n",
      "Requirement already satisfied: requests[socks]>=2.11.1 in c:\\users\\jeong hyunji\\anaconda3\\lib\\site-packages (from tweepy>=3.7.0->konlpy) (2.25.1)\n",
      "Requirement already satisfied: requests-oauthlib>=0.7.0 in c:\\users\\jeong hyunji\\anaconda3\\lib\\site-packages (from tweepy>=3.7.0->konlpy) (1.3.0)\n",
      "Requirement already satisfied: oauthlib>=3.0.0 in c:\\users\\jeong hyunji\\anaconda3\\lib\\site-packages (from requests-oauthlib>=0.7.0->tweepy>=3.7.0->konlpy) (3.1.1)\n",
      "Requirement already satisfied: certifi>=2017.4.17 in c:\\users\\jeong hyunji\\anaconda3\\lib\\site-packages (from requests[socks]>=2.11.1->tweepy>=3.7.0->konlpy) (2020.12.5)\n",
      "Requirement already satisfied: chardet<5,>=3.0.2 in c:\\users\\jeong hyunji\\anaconda3\\lib\\site-packages (from requests[socks]>=2.11.1->tweepy>=3.7.0->konlpy) (4.0.0)\n",
      "Requirement already satisfied: urllib3<1.27,>=1.21.1 in c:\\users\\jeong hyunji\\anaconda3\\lib\\site-packages (from requests[socks]>=2.11.1->tweepy>=3.7.0->konlpy) (1.26.4)\n",
      "Requirement already satisfied: idna<3,>=2.5 in c:\\users\\jeong hyunji\\anaconda3\\lib\\site-packages (from requests[socks]>=2.11.1->tweepy>=3.7.0->konlpy) (2.10)\n",
      "Requirement already satisfied: PySocks!=1.5.7,>=1.5.6 in c:\\users\\jeong hyunji\\anaconda3\\lib\\site-packages (from requests[socks]>=2.11.1->tweepy>=3.7.0->konlpy) (1.7.1)\n"
     ]
    }
   ],
   "source": [
    "!pip3 install konlpy\n",
    "from konlpy.tag import Okt"
   ]
  },
  {
   "cell_type": "code",
   "execution_count": 13,
   "metadata": {
    "id": "pvMeK1nyUoWW"
   },
   "outputs": [],
   "source": [
    "stopwords = ['의','가','이','은','들','는','좀','잘','걍','과','도','를','으로','자','에','와','한','하다']\n",
    "okt = Okt()"
   ]
  },
  {
   "cell_type": "code",
   "execution_count": 14,
   "metadata": {
    "id": "s16vd0zrUodn"
   },
   "outputs": [],
   "source": [
    "# 트레인데이터를 토큰화해주세요!\n",
    "X_train = []\n",
    "for sentence in train['title']:\n",
    "    temp_X = okt.morphs(sentence,stem=True)\n",
    "    temp_X = [word for word in temp_X if not word in stopwords]\n",
    "    X_train.append(temp_X)"
   ]
  },
  {
   "cell_type": "code",
   "execution_count": 15,
   "metadata": {
    "id": "xDB_jjNKUDGG"
   },
   "outputs": [],
   "source": [
    "# Q3. 테스트 데이터도 똑같이 토큰화를 진행해주세요!\n",
    "X_test = []\n",
    "for sentence in test[\"title\"]:\n",
    "    temp_X = okt.morphs(sentence,stem=True)\n",
    "    temp_X = [word for word in temp_X if not word  in stopwords]\n",
    "    X_test.append(temp_X)\n",
    "    "
   ]
  },
  {
   "cell_type": "code",
   "execution_count": 16,
   "metadata": {
    "id": "wEe5VBmqUDH4"
   },
   "outputs": [],
   "source": [
    "vocab_size =2000 # vocabsize는 2000으로 하겠습니다!\n",
    "tokenizer = Tokenizer(vocab_size)\n",
    "tokenizer.fit_on_texts(X_train)\n",
    "# Q4. fit_on_texts()를 이용하여 각 단어에 고유한 정수를 부여하고 단어 집합을 생성해주세요~"
   ]
  },
  {
   "cell_type": "code",
   "execution_count": 17,
   "metadata": {
    "id": "Ouk-xElrUDKd"
   },
   "outputs": [],
   "source": [
    "# Q5. texts_to_sequence()를 통해 X_train과 X_test의 텍스트 시퀀스를 숫자 시퀀스로 바꿔줍시다!\n",
    "X_train = tokenizer.texts_to_sequences(X_train)\n",
    "X_test = tokenizer.texts_to_sequences(X_test)\n",
    "\n",
    "y_train = np.array(train['topic_idx'])\n",
    "y_train = to_categorical(y_train, 7)"
   ]
  },
  {
   "cell_type": "code",
   "execution_count": 18,
   "metadata": {
    "colab": {
     "base_uri": "https://localhost:8080/",
     "height": 313
    },
    "id": "4bvgChOSUDMP",
    "outputId": "9f90ddac-de6a-44d0-dfa0-bfc37227930d"
   },
   "outputs": [
    {
     "name": "stdout",
     "output_type": "stream",
     "text": [
      "리뷰의 최대 길이 : 15\n",
      "리뷰의 평균 길이 : 5.935360217291306\n"
     ]
    },
    {
     "data": {
      "image/png": "[encoded data removed]",
      "text/plain": [
       "<Figure size 432x288 with 1 Axes>"
      ]
     },
     "metadata": {
      "needs_background": "light"
     },
     "output_type": "display_data"
    }
   ],
   "source": [
    "#리뷰 길이 분포 보기\n",
    "print('리뷰의 최대 길이 :',max(len(l) for l in X_train))\n",
    "print('리뷰의 평균 길이 :',sum(map(len, X_train))/len(X_train))\n",
    "plt.hist([len(s) for s in X_train], bins=50)\n",
    "plt.xlabel('length of samples')\n",
    "plt.ylabel('number of samples')\n",
    "plt.show()"
   ]
  },
  {
   "cell_type": "code",
   "execution_count": 19,
   "metadata": {
    "id": "O2q6vhBvQuQN"
   },
   "outputs": [],
   "source": [
    "max_len = 15\n",
    "\n",
    "##### Q6. pad_sequences 함수 이용해서 패딩 진행해주세요! max_len도 지정해주세요! ######\n",
    "X_train = pad_sequences(X_train, maxlen=max_len)\n",
    "X_test = pad_sequences(X_test, maxlen=max_len)\n",
    "\n",
    "drop_train = [index for index, sentence in enumerate(X_train) if len(sentence) < 1]\n",
    "X_train = np.delete(X_train, drop_train, axis=0)\n",
    "y_train = np.delete(y_train, drop_train, axis=0)"
   ]
  },
  {
   "cell_type": "code",
   "execution_count": 20,
   "metadata": {
    "id": "MlxEW2AXQuSf"
   },
   "outputs": [],
   "source": [
    "embedding_dim = 200 #vocab_size와 max_len 파라미터 세팅은 위에서 이미 진행했습니다! 이용해서 모델링 해주세요~\n",
    "\n",
    "from tensorflow.keras.layers import Embedding, Dense, LSTM\n",
    "from tensorflow.keras.models import Sequential\n",
    "from tensorflow.keras.models import load_model\n",
    "from tensorflow.keras.callbacks import EarlyStopping, ModelCheckpoint\n",
    "\n",
    "#################### Q7 ####################\n",
    "# lstm/vanila RNN, 혹은 다른 모델도 상관 없습니다! import 할 거 하시고, 모델링을 해주세요!\n",
    "# 힌트: 마지막 dense 층에서 출력 뉴런 수, 활성화 함수를 잘 설정하시는게 중요합니다!\n",
    "# 힌트2: vocab_size와 max_len, embedding_dim 파라미터 이용해서 모델링 해주세요~\n",
    "\n",
    "\n",
    "model = Sequential()\n",
    "model.add(Embedding(vocab_size, embedding_dim))\n",
    "model.add(LSTM(128))\n",
    "model.add(Dense(7, activation = \"softmax\"))\n"
   ]
  },
  {
   "cell_type": "code",
   "execution_count": 21,
   "metadata": {
    "colab": {
     "base_uri": "https://localhost:8080/"
    },
    "id": "6SbRlq5XYo0M",
    "outputId": "40c16fd4-e02e-47e4-e8ba-0e19d090782d"
   },
   "outputs": [
    {
     "name": "stdout",
     "output_type": "stream",
     "text": [
      "Epoch 1/5\n",
      "366/366 [==============================] - 14s 34ms/step - loss: 0.8759 - acc: 0.6941 - val_loss: 0.9605 - val_acc: 0.6452\n",
      "Epoch 2/5\n",
      "366/366 [==============================] - 13s 36ms/step - loss: 0.5360 - acc: 0.8189 - val_loss: 0.8561 - val_acc: 0.6961\n",
      "Epoch 3/5\n",
      "366/366 [==============================] - 14s 37ms/step - loss: 0.4816 - acc: 0.8342 - val_loss: 0.8612 - val_acc: 0.6951\n",
      "Epoch 4/5\n",
      "366/366 [==============================] - 15s 41ms/step - loss: 0.4501 - acc: 0.8431 - val_loss: 0.9030 - val_acc: 0.6801\n",
      "Epoch 5/5\n",
      "366/366 [==============================] - 15s 41ms/step - loss: 0.4243 - acc: 0.8509 - val_loss: 0.8780 - val_acc: 0.6930\n"
     ]
    }
   ],
   "source": [
    "#학습을 진행시켜봅시다! 셀을 실행시켜주세요! epoch, validation_split은 원하시는대로 바꾸셔도 되고, Early Stopping 응용하셔도 됩니다!\n",
    "\n",
    "model.compile(optimizer='adam', loss='categorical_crossentropy', metrics=['acc'])\n",
    "history = model.fit(X_train, y_train, epochs=5, batch_size=100, validation_split=0.2)"
   ]
  },
  {
   "cell_type": "code",
   "execution_count": 22,
   "metadata": {
    "colab": {
     "base_uri": "https://localhost:8080/",
     "height": 314
    },
    "id": "VJ1sxndNYo2J",
    "outputId": "ae8231c6-efb0-47d9-e2ec-564da80315ad"
   },
   "outputs": [
    {
     "data": {
      "text/plain": [
       "<function matplotlib.pyplot.show(close=None, block=None)>"
      ]
     },
     "execution_count": 22,
     "metadata": {},
     "output_type": "execute_result"
    },
    {
     "data": {
      "image/png": "[encoded data removed]",
      "text/plain": [
       "<Figure size 864x288 with 2 Axes>"
      ]
     },
     "metadata": {
      "needs_background": "light"
     },
     "output_type": "display_data"
    }
   ],
   "source": [
    "#에러 없이, 원하는 모델로 마지막 epoch까지 학습을 완료시켜주시고 이 셀을 실행시켜주세요! 에러 없이 해당셀까지 실행시켜주시면 성공입니다~\n",
    "\n",
    "# 모델 학습 결과 확인\n",
    "plt.figure(figsize=(12, 4))\n",
    "\n",
    "plt.subplot(1, 2, 1)\n",
    "plt.title('loss', fontsize= 15)\n",
    "plt.plot(history.history['loss'], 'b-', label='loss')\n",
    "plt.plot(history.history['val_loss'],'r--', label='val_loss')\n",
    "plt.xlabel('Epoch')\n",
    "plt.legend()\n",
    "\n",
    "plt.subplot(1, 2, 2)\n",
    "plt.title('accuracy', fontsize= 15)\n",
    "plt.plot(history.history['acc'], 'g-', label='accuracy')\n",
    "plt.plot(history.history['val_acc'],'k--', label='val_accuracy')\n",
    "plt.xlabel('Epoch')\n",
    "plt.legend()\n",
    "plt.show"
   ]
  },
  {
   "cell_type": "markdown",
   "metadata": {
    "id": "uir-WBtYepc9"
   },
   "source": [
    "------\n",
    "\n",
    "**수고하셨습니다🥰🥰🥰**"
   ]
  },
  {
   "cell_type": "code",
   "execution_count": null,
   "metadata": {
    "id": "jAVKkcNze-8z"
   },
   "outputs": [],
   "source": []
  }
 ],
 "metadata": {
  "colab": {
   "collapsed_sections": [],
   "name": "RNN_과제.ipynb",
   "provenance": []
  },
  "kernelspec": {
   "display_name": "Python 3",
   "language": "python",
   "name": "python3"
  },
  "language_info": {
   "codemirror_mode": {
    "name": "ipython",
    "version": 3
   },
   "file_extension": ".py",
   "mimetype": "text/x-python",
   "name": "python",
   "nbconvert_exporter": "python",
   "pygments_lexer": "ipython3",
   "version": "3.8.8"
  }
 },
 "nbformat": 4,
 "nbformat_minor": 1
}
